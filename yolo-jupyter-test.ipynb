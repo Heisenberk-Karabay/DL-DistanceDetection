{
 "cells": [
  {
   "cell_type": "code",
   "execution_count": 163,
   "metadata": {},
   "outputs": [],
   "source": [
    "import cv2 as cv\n",
    "import torch\n",
    "import numpy as np\n"
   ]
  },
  {
   "cell_type": "code",
   "execution_count": 164,
   "metadata": {},
   "outputs": [
    {
     "name": "stdout",
     "output_type": "stream",
     "text": [
      "4.5.5\n"
     ]
    }
   ],
   "source": [
    "print(cv.__version__)"
   ]
  },
  {
   "cell_type": "code",
   "execution_count": 165,
   "metadata": {},
   "outputs": [
    {
     "name": "stderr",
     "output_type": "stream",
     "text": [
      "Using cache found in C:\\Users\\PCX/.cache\\torch\\hub\\ultralytics_yolov5_master\n",
      "YOLOv5  2022-2-18 torch 1.10.2+cu113 CUDA:0 (GeForce RTX 3050 Ti Laptop GPU, 4096MiB)\n",
      "\n",
      "Fusing layers... \n",
      "Model Summary: 213 layers, 7225885 parameters, 0 gradients\n",
      "Adding AutoShape... \n"
     ]
    }
   ],
   "source": [
    "model = torch.hub.load( \\\n",
    "                      'ultralytics/yolov5', \\\n",
    "                      'yolov5s', \\\n",
    "                      pretrained=True)\n"
   ]
  },
  {
   "cell_type": "code",
   "execution_count": 166,
   "metadata": {},
   "outputs": [
    {
     "name": "stdout",
     "output_type": "stream",
     "text": [
      "['person', 'bicycle', 'car', 'motorcycle', 'airplane', 'bus', 'train', 'truck', 'boat', 'traffic light', 'fire hydrant', 'stop sign', 'parking meter', 'bench', 'bird', 'cat', 'dog', 'horse', 'sheep', 'cow', 'elephant', 'bear', 'zebra', 'giraffe', 'backpack', 'umbrella', 'handbag', 'tie', 'suitcase', 'frisbee', 'skis', 'snowboard', 'sports ball', 'kite', 'baseball bat', 'baseball glove', 'skateboard', 'surfboard', 'tennis racket', 'bottle', 'wine glass', 'cup', 'fork', 'knife', 'spoon', 'bowl', 'banana', 'apple', 'sandwich', 'orange', 'broccoli', 'carrot', 'hot dog', 'pizza', 'donut', 'cake', 'chair', 'couch', 'potted plant', 'bed', 'dining table', 'toilet', 'tv', 'laptop', 'mouse', 'remote', 'keyboard', 'cell phone', 'microwave', 'oven', 'toaster', 'sink', 'refrigerator', 'book', 'clock', 'vase', 'scissors', 'teddy bear', 'hair drier', 'toothbrush']\n"
     ]
    }
   ],
   "source": [
    "print(model.names)"
   ]
  },
  {
   "cell_type": "code",
   "execution_count": 167,
   "metadata": {},
   "outputs": [],
   "source": [
    "def plot_boxes(results, frame):\n",
    "\n",
    "        labels, cord = results\n",
    "        \n",
    "        n = len(labels)\n",
    "        \n",
    "        \n",
    "        x_shape, y_shape = frame.shape[1], frame.shape[0]\n",
    "        for i in range(n):\n",
    "            row = cord[i]\n",
    "            \n",
    "            \n",
    "            # If score is less than 0.2 we avoid making a prediction.\n",
    "            if row[4] < 0.4:\n",
    "                continue\n",
    "\n",
    "            \n",
    "            \n",
    "           \n",
    "            x1 = int(row[0]*x_shape)\n",
    "            y1 = int(row[1]*y_shape)\n",
    "            x2 = int(row[2]*x_shape)\n",
    "            y2 = int(row[3]*y_shape)\n",
    "            bgr = (0, 255, 0) # color of the box\n",
    "            classes = model.names # Get the name of label index\n",
    "            class_labels = int(labels[i])\n",
    "            \n",
    "            #print(type(classes[class_labels]))\n",
    "            \n",
    "            \n",
    "            label_font = cv.FONT_HERSHEY_SIMPLEX #Font for the label.\n",
    "            cv.rectangle(frame, \\\n",
    "                        (x1, y1), (x2, y2), \\\n",
    "                        bgr, 2) #Plot the boxes\n",
    "            cv.putText(frame,\\\n",
    "                        (f\"{classes[class_labels]}\"), \\\n",
    "                        (x1, y1), \\\n",
    "                        label_font, 0.9, bgr, 2) #Put a label over box.\n",
    "            return frame"
   ]
  },
  {
   "cell_type": "code",
   "execution_count": 168,
   "metadata": {},
   "outputs": [],
   "source": [
    "def score_frame(frame, model):\n",
    "    if frame is None:\n",
    "        pass\n",
    "    else:\n",
    "        device = 'cuda' if torch.cuda.is_available() else 'cpu'\n",
    "    \n",
    "        model.to(device)\n",
    "    \n",
    "        results = model(frame)\n",
    "    \n",
    "        labels = results.xyxyn[0][:, -1].cpu().numpy()\n",
    "\n",
    "        \n",
    "        cord = results.xyxyn[0][:, :-1].cpu().numpy()\n",
    "        return labels, cord"
   ]
  },
  {
   "cell_type": "code",
   "execution_count": 169,
   "metadata": {},
   "outputs": [],
   "source": [
    "cap = cv.VideoCapture(0)\n",
    "if not cap.isOpened():\n",
    "    print(\"Camera cannot be opened !\")\n",
    "    exit()\n",
    "\n",
    "while True:\n",
    "\n",
    "    # Capture the video frame\n",
    "    \n",
    "   \n",
    "    ret, frame = cap.read()\n",
    "    \n",
    "\n",
    "    gray_frame = cv.cvtColor(frame, cv.COLOR_BGR2GRAY)\n",
    "        \n",
    "\n",
    "\n",
    "\n",
    "    results = score_frame(gray_frame,model)\n",
    "    final_frame = plot_boxes(results,gray_frame)\n",
    "\n",
    "\n",
    "    # the first 2 image returns as None. So i will bypass this error    \n",
    "    if final_frame is None:\n",
    "         pass\n",
    "    else:\n",
    "        cv.imshow(\"final\",final_frame)\n",
    "\n",
    "    # the first 2 image returns as None. So i will bypass this error\n",
    "   \n",
    "        \n",
    "        \n",
    "        \n",
    "        # the 'q' button is set as the\n",
    "        # quitting button you may use any\n",
    "        # desired button of your choice\n",
    "\n",
    "        \n",
    "    if cv.waitKey(1) & 0xFF == ord('q'):\n",
    "        break\n",
    "\n",
    "cap.release()\n",
    "# Destroy all the windows\n",
    "cv.destroyAllWindows()"
   ]
  },
  {
   "cell_type": "code",
   "execution_count": null,
   "metadata": {},
   "outputs": [],
   "source": []
  }
 ],
 "metadata": {
  "interpreter": {
   "hash": "f05d460afcc9527ee1ec2a4dc9cd5f82b278329afe2be39bb6f5e7f46ad7e420"
  },
  "kernelspec": {
   "display_name": "Python 3.9.7 ('base')",
   "language": "python",
   "name": "python3"
  },
  "language_info": {
   "codemirror_mode": {
    "name": "ipython",
    "version": 3
   },
   "file_extension": ".py",
   "mimetype": "text/x-python",
   "name": "python",
   "nbconvert_exporter": "python",
   "pygments_lexer": "ipython3",
   "version": "3.9.10"
  },
  "orig_nbformat": 4
 },
 "nbformat": 4,
 "nbformat_minor": 2
}
